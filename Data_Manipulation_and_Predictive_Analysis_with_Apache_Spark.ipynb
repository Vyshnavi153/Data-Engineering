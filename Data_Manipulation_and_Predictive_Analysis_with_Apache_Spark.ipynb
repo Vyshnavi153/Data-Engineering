{
  "nbformat": 4,
  "nbformat_minor": 0,
  "metadata": {
    "colab": {
      "provenance": [],
      "mount_file_id": "1V4rJbekjhqmAP_8oyDpN91nYtZFGIjGB",
      "authorship_tag": "ABX9TyP2vltSueOHTeG5t1wDziWS",
      "include_colab_link": true
    },
    "kernelspec": {
      "name": "python3",
      "display_name": "Python 3"
    },
    "language_info": {
      "name": "python"
    }
  },
  "cells": [
    {
      "cell_type": "markdown",
      "metadata": {
        "id": "view-in-github",
        "colab_type": "text"
      },
      "source": [
        "<a href=\"https://colab.research.google.com/github/Vyshnavi153/Data-Engineering/blob/main/Data_Manipulation_and_Predictive_Analysis_with_Apache_Spark.ipynb\" target=\"_parent\"><img src=\"https://colab.research.google.com/assets/colab-badge.svg\" alt=\"Open In Colab\"/></a>"
      ]
    },
    {
      "cell_type": "code",
      "execution_count": 43,
      "metadata": {
        "colab": {
          "base_uri": "https://localhost:8080/"
        },
        "id": "jEzgBiDV5EF2",
        "outputId": "402c31b2-1387-4994-9320-b435b071c4d8"
      },
      "outputs": [
        {
          "output_type": "stream",
          "name": "stdout",
          "text": [
            "Requirement already satisfied: pyspark in /usr/local/lib/python3.10/dist-packages (3.5.3)\n",
            "Requirement already satisfied: py4j==0.10.9.7 in /usr/local/lib/python3.10/dist-packages (from pyspark) (0.10.9.7)\n"
          ]
        }
      ],
      "source": [
        "!pip install pyspark"
      ]
    },
    {
      "cell_type": "code",
      "source": [
        "from pyspark.sql import SparkSession\n",
        "\n",
        "spark = SparkSession.builder.appName(\n",
        "    \"Python Spark MBA\"\n",
        "    ).config(\n",
        "        \"spark.some.config.option\", \"some-value\"\n",
        "    ).getOrCreate()"
      ],
      "metadata": {
        "id": "1SbKvjAs5N5t"
      },
      "execution_count": 44,
      "outputs": []
    },
    {
      "cell_type": "code",
      "source": [
        "spark"
      ],
      "metadata": {
        "colab": {
          "base_uri": "https://localhost:8080/",
          "height": 219
        },
        "id": "6kp1wdaG5VXU",
        "outputId": "7603f880-010e-458f-80df-894ef0bd9784"
      },
      "execution_count": 45,
      "outputs": [
        {
          "output_type": "execute_result",
          "data": {
            "text/plain": [
              "<pyspark.sql.session.SparkSession at 0x7d90418dc580>"
            ],
            "text/html": [
              "\n",
              "            <div>\n",
              "                <p><b>SparkSession - in-memory</b></p>\n",
              "                \n",
              "        <div>\n",
              "            <p><b>SparkContext</b></p>\n",
              "\n",
              "            <p><a href=\"http://b08a95e8e14a:4040\">Spark UI</a></p>\n",
              "\n",
              "            <dl>\n",
              "              <dt>Version</dt>\n",
              "                <dd><code>v3.5.3</code></dd>\n",
              "              <dt>Master</dt>\n",
              "                <dd><code>local[*]</code></dd>\n",
              "              <dt>AppName</dt>\n",
              "                <dd><code>Python Spark MBA</code></dd>\n",
              "            </dl>\n",
              "        </div>\n",
              "        \n",
              "            </div>\n",
              "        "
            ]
          },
          "metadata": {},
          "execution_count": 45
        }
      ]
    },
    {
      "cell_type": "code",
      "source": [
        "mba_file = \"/content/drive/MyDrive/data/MBA.csv\""
      ],
      "metadata": {
        "id": "87lSaUuJ5auR"
      },
      "execution_count": 46,
      "outputs": []
    },
    {
      "cell_type": "code",
      "source": [
        "mba_df = spark.read.csv(mba_file, header=True, inferSchema=True)\n",
        "mba_df.printSchema()"
      ],
      "metadata": {
        "colab": {
          "base_uri": "https://localhost:8080/"
        },
        "id": "DMsLmQzX6Fk1",
        "outputId": "be864df9-1aee-4f36-d6d6-f331c61c561c"
      },
      "execution_count": 47,
      "outputs": [
        {
          "output_type": "stream",
          "name": "stdout",
          "text": [
            "root\n",
            " |-- application_id: integer (nullable = true)\n",
            " |-- gender: string (nullable = true)\n",
            " |-- international: boolean (nullable = true)\n",
            " |-- gpa: double (nullable = true)\n",
            " |-- major: string (nullable = true)\n",
            " |-- race: string (nullable = true)\n",
            " |-- gmat: double (nullable = true)\n",
            " |-- work_exp: double (nullable = true)\n",
            " |-- work_industry: string (nullable = true)\n",
            " |-- admission: string (nullable = true)\n",
            "\n"
          ]
        }
      ]
    },
    {
      "cell_type": "code",
      "source": [
        "mba_df.show(5)"
      ],
      "metadata": {
        "colab": {
          "base_uri": "https://localhost:8080/"
        },
        "id": "3WmhBnp26LCO",
        "outputId": "eac612b1-929c-4b12-91ae-c711d6d2d8bc"
      },
      "execution_count": 48,
      "outputs": [
        {
          "output_type": "stream",
          "name": "stdout",
          "text": [
            "+--------------+------+-------------+----+----------+--------+-----+--------+--------------------+---------+\n",
            "|application_id|gender|international| gpa|     major|    race| gmat|work_exp|       work_industry|admission|\n",
            "+--------------+------+-------------+----+----------+--------+-----+--------+--------------------+---------+\n",
            "|             1|Female|        false| 3.3|  Business|   Asian|620.0|     3.0|  Financial Services|    Admit|\n",
            "|             2|  Male|        false|3.28|Humanities|   Black|680.0|     5.0|Investment Manage...|     NULL|\n",
            "|             3|Female|         true| 3.3|  Business|    NULL|710.0|     5.0|          Technology|    Admit|\n",
            "|             4|  Male|        false|3.47|      STEM|   Black|690.0|     6.0|          Technology|     NULL|\n",
            "|             5|  Male|        false|3.35|      STEM|Hispanic|590.0|     5.0|          Consulting|     NULL|\n",
            "+--------------+------+-------------+----+----------+--------+-----+--------+--------------------+---------+\n",
            "only showing top 5 rows\n",
            "\n"
          ]
        }
      ]
    },
    {
      "cell_type": "code",
      "source": [
        "mba_df.describe().show()"
      ],
      "metadata": {
        "colab": {
          "base_uri": "https://localhost:8080/"
        },
        "id": "uYk1HU0S6sI_",
        "outputId": "0e4973f1-63f6-4489-bfe1-e9e01e568d68"
      },
      "execution_count": 49,
      "outputs": [
        {
          "output_type": "stream",
          "name": "stdout",
          "text": [
            "+-------+------------------+------+-------------------+--------+-----+------------------+------------------+-------------+---------+\n",
            "|summary|    application_id|gender|                gpa|   major| race|              gmat|          work_exp|work_industry|admission|\n",
            "+-------+------------------+------+-------------------+--------+-----+------------------+------------------+-------------+---------+\n",
            "|  count|              6194|  6194|               6194|    6194| 4352|              6194|              6194|         6194|     1000|\n",
            "|   mean|            3097.5|  NULL| 3.2507135938004508|    NULL| NULL| 651.0929932192445|5.0169518889247655|         NULL|     NULL|\n",
            "| stddev|1788.1981154223377|  NULL|0.15154111487341523|    NULL| NULL|49.294883485510915|1.0324322571092028|         NULL|     NULL|\n",
            "|    min|                 1|Female|               2.65|Business|Asian|             570.0|               1.0|          CPG|    Admit|\n",
            "|    max|              6194|  Male|               3.77|    STEM|White|             780.0|               9.0|   Technology| Waitlist|\n",
            "+-------+------------------+------+-------------------+--------+-----+------------------+------------------+-------------+---------+\n",
            "\n"
          ]
        }
      ]
    },
    {
      "cell_type": "code",
      "source": [
        "mba_df.summary().show()"
      ],
      "metadata": {
        "colab": {
          "base_uri": "https://localhost:8080/"
        },
        "id": "BugVUNOD60r2",
        "outputId": "2af0e2d8-e30c-4eba-bcbe-301e996aca3b"
      },
      "execution_count": 50,
      "outputs": [
        {
          "output_type": "stream",
          "name": "stdout",
          "text": [
            "+-------+------------------+------+-------------------+--------+-----+------------------+------------------+-------------+---------+\n",
            "|summary|    application_id|gender|                gpa|   major| race|              gmat|          work_exp|work_industry|admission|\n",
            "+-------+------------------+------+-------------------+--------+-----+------------------+------------------+-------------+---------+\n",
            "|  count|              6194|  6194|               6194|    6194| 4352|              6194|              6194|         6194|     1000|\n",
            "|   mean|            3097.5|  NULL| 3.2507135938004508|    NULL| NULL| 651.0929932192445|5.0169518889247655|         NULL|     NULL|\n",
            "| stddev|1788.1981154223377|  NULL|0.15154111487341523|    NULL| NULL|49.294883485510915|1.0324322571092028|         NULL|     NULL|\n",
            "|    min|                 1|Female|               2.65|Business|Asian|             570.0|               1.0|          CPG|    Admit|\n",
            "|    25%|              1548|  NULL|               3.15|    NULL| NULL|             610.0|               4.0|         NULL|     NULL|\n",
            "|    50%|              3096|  NULL|               3.25|    NULL| NULL|             650.0|               5.0|         NULL|     NULL|\n",
            "|    75%|              4645|  NULL|               3.35|    NULL| NULL|             680.0|               6.0|         NULL|     NULL|\n",
            "|    max|              6194|  Male|               3.77|    STEM|White|             780.0|               9.0|   Technology| Waitlist|\n",
            "+-------+------------------+------+-------------------+--------+-----+------------------+------------------+-------------+---------+\n",
            "\n"
          ]
        }
      ]
    },
    {
      "cell_type": "code",
      "source": [
        "mba_df2 = mba_df.withColumnRenamed('work_exp', 'experience_years') \\\n",
        "                .withColumnRenamed('gmat', 'gmat_score')\n",
        "mba_df2.show(5)"
      ],
      "metadata": {
        "colab": {
          "base_uri": "https://localhost:8080/"
        },
        "id": "7ao3yzTb698l",
        "outputId": "611d054e-9438-46ae-9566-661f18f367d5"
      },
      "execution_count": 51,
      "outputs": [
        {
          "output_type": "stream",
          "name": "stdout",
          "text": [
            "+--------------+------+-------------+----+----------+--------+----------+----------------+--------------------+---------+\n",
            "|application_id|gender|international| gpa|     major|    race|gmat_score|experience_years|       work_industry|admission|\n",
            "+--------------+------+-------------+----+----------+--------+----------+----------------+--------------------+---------+\n",
            "|             1|Female|        false| 3.3|  Business|   Asian|     620.0|             3.0|  Financial Services|    Admit|\n",
            "|             2|  Male|        false|3.28|Humanities|   Black|     680.0|             5.0|Investment Manage...|     NULL|\n",
            "|             3|Female|         true| 3.3|  Business|    NULL|     710.0|             5.0|          Technology|    Admit|\n",
            "|             4|  Male|        false|3.47|      STEM|   Black|     690.0|             6.0|          Technology|     NULL|\n",
            "|             5|  Male|        false|3.35|      STEM|Hispanic|     590.0|             5.0|          Consulting|     NULL|\n",
            "+--------------+------+-------------+----+----------+--------+----------+----------------+--------------------+---------+\n",
            "only showing top 5 rows\n",
            "\n"
          ]
        }
      ]
    },
    {
      "cell_type": "code",
      "source": [
        "mba_df.show(2)"
      ],
      "metadata": {
        "colab": {
          "base_uri": "https://localhost:8080/"
        },
        "id": "9odJR8lBhbo9",
        "outputId": "f38c75da-95aa-42af-d827-6e507fcc430b"
      },
      "execution_count": 52,
      "outputs": [
        {
          "output_type": "stream",
          "name": "stdout",
          "text": [
            "+--------------+------+-------------+----+----------+-----+-----+--------+--------------------+---------+\n",
            "|application_id|gender|international| gpa|     major| race| gmat|work_exp|       work_industry|admission|\n",
            "+--------------+------+-------------+----+----------+-----+-----+--------+--------------------+---------+\n",
            "|             1|Female|        false| 3.3|  Business|Asian|620.0|     3.0|  Financial Services|    Admit|\n",
            "|             2|  Male|        false|3.28|Humanities|Black|680.0|     5.0|Investment Manage...|     NULL|\n",
            "+--------------+------+-------------+----+----------+-----+-----+--------+--------------------+---------+\n",
            "only showing top 2 rows\n",
            "\n"
          ]
        }
      ]
    },
    {
      "cell_type": "code",
      "source": [
        "mba_df2.show(2)"
      ],
      "metadata": {
        "colab": {
          "base_uri": "https://localhost:8080/"
        },
        "id": "A_84YPa7ibm_",
        "outputId": "10b5572d-5628-46b7-ac68-ce2dafc814ec"
      },
      "execution_count": 53,
      "outputs": [
        {
          "output_type": "stream",
          "name": "stdout",
          "text": [
            "+--------------+------+-------------+----+----------+-----+----------+----------------+--------------------+---------+\n",
            "|application_id|gender|international| gpa|     major| race|gmat_score|experience_years|       work_industry|admission|\n",
            "+--------------+------+-------------+----+----------+-----+----------+----------------+--------------------+---------+\n",
            "|             1|Female|        false| 3.3|  Business|Asian|     620.0|             3.0|  Financial Services|    Admit|\n",
            "|             2|  Male|        false|3.28|Humanities|Black|     680.0|             5.0|Investment Manage...|     NULL|\n",
            "+--------------+------+-------------+----+----------+-----+----------+----------------+--------------------+---------+\n",
            "only showing top 2 rows\n",
            "\n"
          ]
        }
      ]
    },
    {
      "cell_type": "code",
      "source": [
        "from pyspark.sql.functions import median\n",
        "\n",
        "#define function to fill null values with column median\n",
        "def fillna_median(df, include=set()):\n",
        "    medians = df.agg(*(\n",
        "        median(x).alias(x) for x in df.columns if x in include\n",
        "    ))\n",
        "    return df.fillna(medians.first().asDict())\n",
        "\n",
        "#fill null values with median in specific columns\n",
        "mba_df2 = fillna_median(mba_df2, ['gpa', 'gmat_score', 'experience_years'])"
      ],
      "metadata": {
        "id": "idjvARp8jpn1"
      },
      "execution_count": 54,
      "outputs": []
    },
    {
      "cell_type": "code",
      "source": [
        "mba_df2.summary().show()"
      ],
      "metadata": {
        "colab": {
          "base_uri": "https://localhost:8080/"
        },
        "id": "LBY8SRUcj2ZY",
        "outputId": "93a8505f-3b8e-455d-8581-181b0cc3e16d"
      },
      "execution_count": 55,
      "outputs": [
        {
          "output_type": "stream",
          "name": "stdout",
          "text": [
            "+-------+------------------+------+-------------------+--------+-----+------------------+------------------+-------------+---------+\n",
            "|summary|    application_id|gender|                gpa|   major| race|        gmat_score|  experience_years|work_industry|admission|\n",
            "+-------+------------------+------+-------------------+--------+-----+------------------+------------------+-------------+---------+\n",
            "|  count|              6194|  6194|               6194|    6194| 4352|              6194|              6194|         6194|     1000|\n",
            "|   mean|            3097.5|  NULL| 3.2507135938004508|    NULL| NULL| 651.0929932192445|5.0169518889247655|         NULL|     NULL|\n",
            "| stddev|1788.1981154223377|  NULL|0.15154111487341523|    NULL| NULL|49.294883485510915|1.0324322571092028|         NULL|     NULL|\n",
            "|    min|                 1|Female|               2.65|Business|Asian|             570.0|               1.0|          CPG|    Admit|\n",
            "|    25%|              1548|  NULL|               3.15|    NULL| NULL|             610.0|               4.0|         NULL|     NULL|\n",
            "|    50%|              3096|  NULL|               3.25|    NULL| NULL|             650.0|               5.0|         NULL|     NULL|\n",
            "|    75%|              4645|  NULL|               3.35|    NULL| NULL|             680.0|               6.0|         NULL|     NULL|\n",
            "|    max|              6194|  Male|               3.77|    STEM|White|             780.0|               9.0|   Technology| Waitlist|\n",
            "+-------+------------------+------+-------------------+--------+-----+------------------+------------------+-------------+---------+\n",
            "\n"
          ]
        }
      ]
    },
    {
      "cell_type": "code",
      "source": [
        "mba_df2 = mba_df2.fillna(\"Deny\", [\"admission\"])"
      ],
      "metadata": {
        "id": "qWqOAtHqX881"
      },
      "execution_count": 56,
      "outputs": []
    },
    {
      "cell_type": "code",
      "source": [
        "mba_df2 = mba_df2.fillna(\"International\", [\"race\"])"
      ],
      "metadata": {
        "id": "GUk-ZLGhYV0J"
      },
      "execution_count": 57,
      "outputs": []
    },
    {
      "cell_type": "code",
      "source": [
        "mba_df2.summary().show()"
      ],
      "metadata": {
        "colab": {
          "base_uri": "https://localhost:8080/"
        },
        "id": "MWBifpo9YcIy",
        "outputId": "a174d835-295a-4bb2-f14a-c73723383d3a"
      },
      "execution_count": 58,
      "outputs": [
        {
          "output_type": "stream",
          "name": "stdout",
          "text": [
            "+-------+------------------+------+-------------------+--------+-----+------------------+------------------+-------------+---------+\n",
            "|summary|    application_id|gender|                gpa|   major| race|        gmat_score|  experience_years|work_industry|admission|\n",
            "+-------+------------------+------+-------------------+--------+-----+------------------+------------------+-------------+---------+\n",
            "|  count|              6194|  6194|               6194|    6194| 6194|              6194|              6194|         6194|     6194|\n",
            "|   mean|            3097.5|  NULL| 3.2507135938004508|    NULL| NULL| 651.0929932192445|5.0169518889247655|         NULL|     NULL|\n",
            "| stddev|1788.1981154223377|  NULL|0.15154111487341523|    NULL| NULL|49.294883485510915|1.0324322571092028|         NULL|     NULL|\n",
            "|    min|                 1|Female|               2.65|Business|Asian|             570.0|               1.0|          CPG|    Admit|\n",
            "|    25%|              1548|  NULL|               3.15|    NULL| NULL|             610.0|               4.0|         NULL|     NULL|\n",
            "|    50%|              3096|  NULL|               3.25|    NULL| NULL|             650.0|               5.0|         NULL|     NULL|\n",
            "|    75%|              4645|  NULL|               3.35|    NULL| NULL|             680.0|               6.0|         NULL|     NULL|\n",
            "|    max|              6194|  Male|               3.77|    STEM|White|             780.0|               9.0|   Technology| Waitlist|\n",
            "+-------+------------------+------+-------------------+--------+-----+------------------+------------------+-------------+---------+\n",
            "\n"
          ]
        }
      ]
    },
    {
      "cell_type": "code",
      "source": [
        "from pyspark.sql.functions import when, col\n",
        "df_admission_numeric = mba_df2.withColumn(\"admission_numeric\", when(col('admission') == 'Admit', 1)\n",
        "                                                              .when(col('admission') == 'Waitlist', 0)\n",
        "                                                              .when(col('admission') == 'Deny', -1))\n",
        "df_admission_numeric.show()"
      ],
      "metadata": {
        "colab": {
          "base_uri": "https://localhost:8080/"
        },
        "id": "9j_NKuPnkRJ5",
        "outputId": "f8d593d1-8224-43d3-8b74-ed39eb4a5a9a"
      },
      "execution_count": 59,
      "outputs": [
        {
          "output_type": "stream",
          "name": "stdout",
          "text": [
            "+--------------+------+-------------+----+----------+-------------+----------+----------------+--------------------+---------+-----------------+\n",
            "|application_id|gender|international| gpa|     major|         race|gmat_score|experience_years|       work_industry|admission|admission_numeric|\n",
            "+--------------+------+-------------+----+----------+-------------+----------+----------------+--------------------+---------+-----------------+\n",
            "|             1|Female|        false| 3.3|  Business|        Asian|     620.0|             3.0|  Financial Services|    Admit|                1|\n",
            "|             2|  Male|        false|3.28|Humanities|        Black|     680.0|             5.0|Investment Manage...|     Deny|               -1|\n",
            "|             3|Female|         true| 3.3|  Business|International|     710.0|             5.0|          Technology|    Admit|                1|\n",
            "|             4|  Male|        false|3.47|      STEM|        Black|     690.0|             6.0|          Technology|     Deny|               -1|\n",
            "|             5|  Male|        false|3.35|      STEM|     Hispanic|     590.0|             5.0|          Consulting|     Deny|               -1|\n",
            "|             6|  Male|        false|3.18|  Business|        White|     610.0|             6.0|          Consulting|     Deny|               -1|\n",
            "|             7|Female|        false|2.93|      STEM|        Other|     590.0|             3.0|          Technology|    Admit|                1|\n",
            "|             8|  Male|         true|3.02|  Business|International|     630.0|             6.0|  Financial Services|     Deny|               -1|\n",
            "|             9|  Male|        false|3.24|  Business|        White|     590.0|             2.0|       Nonprofit/Gov|     Deny|               -1|\n",
            "|            10|  Male|        false|3.27|Humanities|        Asian|     690.0|             3.0|          Consulting|     Deny|               -1|\n",
            "|            11|  Male|        false|3.05|Humanities|        White|     580.0|             5.0|          Technology|     Deny|               -1|\n",
            "|            12|  Male|         true|2.85|Humanities|International|     580.0|             4.0|               PE/VC|     Deny|               -1|\n",
            "|            13|Female|        false|3.24|Humanities|     Hispanic|     640.0|             6.0|               PE/VC| Waitlist|                0|\n",
            "|            14|Female|        false|3.39|  Business|        Black|     690.0|             4.0|       Nonprofit/Gov|     Deny|               -1|\n",
            "|            15|Female|        false|3.03|      STEM|        White|     600.0|             5.0|          Technology|    Admit|                1|\n",
            "|            16|Female|         true|3.05|Humanities|International|     710.0|             4.0|          Consulting|    Admit|                1|\n",
            "|            17|Female|        false|3.32|  Business|        Asian|     710.0|             5.0|               PE/VC|    Admit|                1|\n",
            "|            18|  Male|        false|3.23|Humanities|        Black|     700.0|             4.0|         Health Care|     Deny|               -1|\n",
            "|            19|  Male|        false|3.13|Humanities|        White|     630.0|             6.0|  Financial Services|     Deny|               -1|\n",
            "|            20|  Male|         true|3.09|  Business|International|     670.0|             8.0|          Consulting|     Deny|               -1|\n",
            "+--------------+------+-------------+----+----------+-------------+----------+----------------+--------------------+---------+-----------------+\n",
            "only showing top 20 rows\n",
            "\n"
          ]
        }
      ]
    },
    {
      "cell_type": "code",
      "source": [
        "final_df = df_admission_numeric.withColumn(\"experience_level\", when((col('experience_years') >= 0) & (col('experience_years') <= 2), 'Entry-level')\n",
        "                                                      .when((col('experience_years') >= 3) & (col('experience_years') <= 6), 'Mid-level')\n",
        "                                                      .when(col('experience_years') > 6, 'Senior'))\n",
        "final_df.show()"
      ],
      "metadata": {
        "colab": {
          "base_uri": "https://localhost:8080/"
        },
        "id": "IZ2ZGmk6mMVp",
        "outputId": "fa280ab6-4492-4b27-f382-e91a547d699b"
      },
      "execution_count": 60,
      "outputs": [
        {
          "output_type": "stream",
          "name": "stdout",
          "text": [
            "+--------------+------+-------------+----+----------+-------------+----------+----------------+--------------------+---------+-----------------+----------------+\n",
            "|application_id|gender|international| gpa|     major|         race|gmat_score|experience_years|       work_industry|admission|admission_numeric|experience_level|\n",
            "+--------------+------+-------------+----+----------+-------------+----------+----------------+--------------------+---------+-----------------+----------------+\n",
            "|             1|Female|        false| 3.3|  Business|        Asian|     620.0|             3.0|  Financial Services|    Admit|                1|       Mid-level|\n",
            "|             2|  Male|        false|3.28|Humanities|        Black|     680.0|             5.0|Investment Manage...|     Deny|               -1|       Mid-level|\n",
            "|             3|Female|         true| 3.3|  Business|International|     710.0|             5.0|          Technology|    Admit|                1|       Mid-level|\n",
            "|             4|  Male|        false|3.47|      STEM|        Black|     690.0|             6.0|          Technology|     Deny|               -1|       Mid-level|\n",
            "|             5|  Male|        false|3.35|      STEM|     Hispanic|     590.0|             5.0|          Consulting|     Deny|               -1|       Mid-level|\n",
            "|             6|  Male|        false|3.18|  Business|        White|     610.0|             6.0|          Consulting|     Deny|               -1|       Mid-level|\n",
            "|             7|Female|        false|2.93|      STEM|        Other|     590.0|             3.0|          Technology|    Admit|                1|       Mid-level|\n",
            "|             8|  Male|         true|3.02|  Business|International|     630.0|             6.0|  Financial Services|     Deny|               -1|       Mid-level|\n",
            "|             9|  Male|        false|3.24|  Business|        White|     590.0|             2.0|       Nonprofit/Gov|     Deny|               -1|     Entry-level|\n",
            "|            10|  Male|        false|3.27|Humanities|        Asian|     690.0|             3.0|          Consulting|     Deny|               -1|       Mid-level|\n",
            "|            11|  Male|        false|3.05|Humanities|        White|     580.0|             5.0|          Technology|     Deny|               -1|       Mid-level|\n",
            "|            12|  Male|         true|2.85|Humanities|International|     580.0|             4.0|               PE/VC|     Deny|               -1|       Mid-level|\n",
            "|            13|Female|        false|3.24|Humanities|     Hispanic|     640.0|             6.0|               PE/VC| Waitlist|                0|       Mid-level|\n",
            "|            14|Female|        false|3.39|  Business|        Black|     690.0|             4.0|       Nonprofit/Gov|     Deny|               -1|       Mid-level|\n",
            "|            15|Female|        false|3.03|      STEM|        White|     600.0|             5.0|          Technology|    Admit|                1|       Mid-level|\n",
            "|            16|Female|         true|3.05|Humanities|International|     710.0|             4.0|          Consulting|    Admit|                1|       Mid-level|\n",
            "|            17|Female|        false|3.32|  Business|        Asian|     710.0|             5.0|               PE/VC|    Admit|                1|       Mid-level|\n",
            "|            18|  Male|        false|3.23|Humanities|        Black|     700.0|             4.0|         Health Care|     Deny|               -1|       Mid-level|\n",
            "|            19|  Male|        false|3.13|Humanities|        White|     630.0|             6.0|  Financial Services|     Deny|               -1|       Mid-level|\n",
            "|            20|  Male|         true|3.09|  Business|International|     670.0|             8.0|          Consulting|     Deny|               -1|          Senior|\n",
            "+--------------+------+-------------+----+----------+-------------+----------+----------------+--------------------+---------+-----------------+----------------+\n",
            "only showing top 20 rows\n",
            "\n"
          ]
        }
      ]
    },
    {
      "cell_type": "markdown",
      "source": [
        "### Exploratory Data Analysis"
      ],
      "metadata": {
        "id": "gbpjSo2pnMnE"
      }
    },
    {
      "cell_type": "code",
      "source": [
        "from pyspark.sql.functions import col, sum, avg, min, max, count, countDistinct"
      ],
      "metadata": {
        "id": "SJRFcIWsm5jp"
      },
      "execution_count": 61,
      "outputs": []
    },
    {
      "cell_type": "code",
      "source": [
        "# Calculate average score gmat score and gpa for each major\n",
        "avg_scores_by_major = final_df.groupBy('major').agg(\n",
        "    avg('gmat_score').alias('avg_gmat_score'),\n",
        "    avg('gpa').alias('avg_gpa'))\n",
        "avg_scores_by_major.show()"
      ],
      "metadata": {
        "colab": {
          "base_uri": "https://localhost:8080/"
        },
        "id": "62HTbzwkoPHM",
        "outputId": "df22eae6-ddc0-4f68-b847-93e6a62e65d4"
      },
      "execution_count": 62,
      "outputs": [
        {
          "output_type": "stream",
          "name": "stdout",
          "text": [
            "+----------+-----------------+------------------+\n",
            "|     major|   avg_gmat_score|           avg_gpa|\n",
            "+----------+-----------------+------------------+\n",
            "|Humanities|651.8299072954454| 3.250999596936719|\n",
            "|      STEM|          650.832|3.2492266666666683|\n",
            "|  Business|650.3645266594124|3.2518443960826935|\n",
            "+----------+-----------------+------------------+\n",
            "\n"
          ]
        }
      ]
    },
    {
      "cell_type": "code",
      "source": [
        "total_applicants = final_df.count()\n",
        "print('Total applicants', total_applicants)"
      ],
      "metadata": {
        "colab": {
          "base_uri": "https://localhost:8080/"
        },
        "id": "8t9vVJ0ysg9o",
        "outputId": "a20884f9-a4b9-4f9d-a119-b61eacc909a0"
      },
      "execution_count": 63,
      "outputs": [
        {
          "output_type": "stream",
          "name": "stdout",
          "text": [
            "Total applicants 6194\n"
          ]
        }
      ]
    },
    {
      "cell_type": "code",
      "source": [
        "# Percentage of applicants admitted by work_industry\n",
        "admission_percentage_by_industry = final_df.groupBy('Work_industry').agg(\n",
        "    (count(when(col('admission') == 'Admit', 1))/count(\"*\") * 100).alias('admit_percent_by_industry')\n",
        ")\n",
        "admission_percentage_by_industry.show()"
      ],
      "metadata": {
        "colab": {
          "base_uri": "https://localhost:8080/"
        },
        "id": "G0xBuo41pAF7",
        "outputId": "3b6c554d-be09-4bd7-881f-edd8e966cfbd"
      },
      "execution_count": 109,
      "outputs": [
        {
          "output_type": "stream",
          "name": "stdout",
          "text": [
            "+--------------------+-------------------------+\n",
            "|       Work_industry|admit_percent_by_industry|\n",
            "+--------------------+-------------------------+\n",
            "|  Investment Banking|        14.13793103448276|\n",
            "|         Health Care|       11.976047904191617|\n",
            "|  Financial Services|        19.06873614190687|\n",
            "|              Energy|                    9.375|\n",
            "|               PE/VC|        13.45093715545755|\n",
            "|         Real Estate|       16.216216216216218|\n",
            "|                 CPG|       17.543859649122805|\n",
            "|               Other|       13.539192399049881|\n",
            "|Investment Manage...|       21.686746987951807|\n",
            "|       Nonprofit/Gov|       13.671274961597543|\n",
            "|          Consulting|       13.835701050030883|\n",
            "|          Technology|        15.64245810055866|\n",
            "| Media/Entertainment|       11.864406779661017|\n",
            "|              Retail|       12.121212121212121|\n",
            "+--------------------+-------------------------+\n",
            "\n"
          ]
        }
      ]
    },
    {
      "cell_type": "code",
      "source": [
        "# Distribution of experience_level among applicants by gender\n",
        "experience_by_gender = final_df.groupBy('gender', 'experience_level').count()\n",
        "experience_by_gender.orderBy(\"gender\", \"experience_level\").show()"
      ],
      "metadata": {
        "colab": {
          "base_uri": "https://localhost:8080/"
        },
        "id": "MkRaLXDqpR9u",
        "outputId": "032828f0-9ce8-4bbe-e6f5-198229a10851"
      },
      "execution_count": 100,
      "outputs": [
        {
          "output_type": "stream",
          "name": "stdout",
          "text": [
            "+------+----------------+-----+\n",
            "|gender|experience_level|count|\n",
            "+------+----------------+-----+\n",
            "|Female|     Entry-level|   11|\n",
            "|Female|       Mid-level| 2091|\n",
            "|Female|          Senior|  149|\n",
            "|  Male|     Entry-level|   23|\n",
            "|  Male|       Mid-level| 3662|\n",
            "|  Male|          Senior|  258|\n",
            "+------+----------------+-----+\n",
            "\n"
          ]
        }
      ]
    },
    {
      "cell_type": "code",
      "source": [
        "# Avg gpa and gmat scores by race and international status\n",
        "avg_scores_by_status = final_df.groupBy('race', 'international').agg(\n",
        "    avg('gmat_score').alias('avg_gmat_score_by_status'),\n",
        "    avg('gpa').alias('avg_gpa_by_status')\n",
        ")\n",
        "avg_scores_by_status.show()"
      ],
      "metadata": {
        "colab": {
          "base_uri": "https://localhost:8080/"
        },
        "id": "oWlBEjISpWup",
        "outputId": "dcd48bd2-5408-4a60-f519-df3bb392c914"
      },
      "execution_count": 66,
      "outputs": [
        {
          "output_type": "stream",
          "name": "stdout",
          "text": [
            "+-------------+-------------+------------------------+------------------+\n",
            "|         race|international|avg_gmat_score_by_status| avg_gpa_by_status|\n",
            "+-------------+-------------+------------------------+------------------+\n",
            "|        Other|        false|       652.7426160337553| 3.261603375527424|\n",
            "|        Asian|        false|       652.6939843068875| 3.254873583260682|\n",
            "|        Black|        false|       652.2707423580786|3.2540065502183393|\n",
            "|        White|        false|       650.1442307692307|  3.24991071428571|\n",
            "|International|         true|        649.972855591748|3.2440662323561296|\n",
            "|     Hispanic|        false|       651.3255033557047|3.2558221476510085|\n",
            "+-------------+-------------+------------------------+------------------+\n",
            "\n"
          ]
        }
      ]
    },
    {
      "cell_type": "markdown",
      "source": [
        "### Aggregation and Insights"
      ],
      "metadata": {
        "id": "ldQbXwGbr8X5"
      }
    },
    {
      "cell_type": "code",
      "source": [
        "# Admission rate for international vs domestic applicants\n",
        "from pyspark.sql import Row\n",
        "total_admitted_applicants = final_df.filter(col('admission') == 'Admit').count()\n",
        "international_admissions = final_df.filter((col('international') == 'TRUE') & (col('admission') == 'Admit')).count()\n",
        "domestic_admissions = final_df.filter((col('international') == 'FALSE') & (col('admission') == 'Admit')).count()\n",
        "admission_rates = {\n",
        "    'international': international_admissions / total_admitted_applicants * 100,\n",
        "    'domestic': domestic_admissions / total_admitted_applicants * 100\n",
        "}\n",
        "print(admission_rates)\n",
        "admission_rates_data = [\n",
        "    Row(category=\"international\", admission_rate=admission_rates['international']),\n",
        "    Row(category=\"domestic\", admission_rate=admission_rates['domestic'])\n",
        "]\n",
        "admission_rates_df = spark.createDataFrame(admission_rates_data)\n",
        "admission_rates_df.show()"
      ],
      "metadata": {
        "id": "trOS3UCLrwXZ",
        "colab": {
          "base_uri": "https://localhost:8080/"
        },
        "outputId": "966b8de5-f880-48c2-f6f2-99c2b9674ce7"
      },
      "execution_count": 103,
      "outputs": [
        {
          "output_type": "stream",
          "name": "stdout",
          "text": [
            "{'international': 30.88888888888889, 'domestic': 69.11111111111111}\n",
            "+-------------+-----------------+\n",
            "|     category|   admission_rate|\n",
            "+-------------+-----------------+\n",
            "|international|30.88888888888889|\n",
            "|     domestic|69.11111111111111|\n",
            "+-------------+-----------------+\n",
            "\n"
          ]
        }
      ]
    },
    {
      "cell_type": "code",
      "source": [
        "# Top 3 undergraduate majors with highest admission rates\n",
        "admission_rates_by_major = final_df.groupBy('major', 'admission').count()\n",
        "top_3_majors = admission_rates_by_major.filter(col('admission') == 'Admit')\n",
        "top_3_majors.select(col('major')).orderBy(col('count').desc()).show(3)"
      ],
      "metadata": {
        "id": "HKaSUuSLsISG",
        "colab": {
          "base_uri": "https://localhost:8080/"
        },
        "outputId": "299f8136-1b1c-42dd-e202-f0847b9e31c3"
      },
      "execution_count": 99,
      "outputs": [
        {
          "output_type": "stream",
          "name": "stdout",
          "text": [
            "+----------+\n",
            "|     major|\n",
            "+----------+\n",
            "|Humanities|\n",
            "|  Business|\n",
            "|      STEM|\n",
            "+----------+\n",
            "\n"
          ]
        }
      ]
    },
    {
      "cell_type": "code",
      "source": [
        "# Avg work experience and gpa for admitted vs. denied applicants\n",
        "avg_work_and_gpa_by_admission = final_df.groupBy('admission').agg(\n",
        "    avg('experience_years').alias('avg_work_experience_by_admission'),\n",
        "    avg('gpa').alias('avg_gpa_by_admission')\n",
        ")\n",
        "avg_work_and_gpa_by_admission.filter(col('admission').isin(\"Admit\", \"Deny\")).show()"
      ],
      "metadata": {
        "id": "bOlX3odksN8J",
        "colab": {
          "base_uri": "https://localhost:8080/"
        },
        "outputId": "3420435d-4ce5-4617-cb39-260e36325a1e"
      },
      "execution_count": 69,
      "outputs": [
        {
          "output_type": "stream",
          "name": "stdout",
          "text": [
            "+---------+--------------------------------+--------------------+\n",
            "|admission|avg_work_experience_by_admission|avg_gpa_by_admission|\n",
            "+---------+--------------------------------+--------------------+\n",
            "|    Admit|               5.046666666666667|  3.3548666666666693|\n",
            "|     Deny|               5.013862148633038|   3.231457450904887|\n",
            "+---------+--------------------------------+--------------------+\n",
            "\n"
          ]
        }
      ]
    },
    {
      "cell_type": "code",
      "source": [
        "# Overall avg gpa and gmat score by admission status\n",
        "avg_gpa_and_gmat_by_admission = final_df.groupBy('admission').agg(\n",
        "    avg('gpa').alias('avg_gpa_by_admission'),\n",
        "    avg('gmat_score').alias('avg_gmat_score_by_admission')\n",
        ")\n",
        "avg_gpa_and_gmat_by_admission.show()"
      ],
      "metadata": {
        "id": "wfza5vFksUK_",
        "colab": {
          "base_uri": "https://localhost:8080/"
        },
        "outputId": "fc3de8dd-34cd-4130-8f36-4e90cce26c6a"
      },
      "execution_count": 70,
      "outputs": [
        {
          "output_type": "stream",
          "name": "stdout",
          "text": [
            "+---------+--------------------+---------------------------+\n",
            "|admission|avg_gpa_by_admission|avg_gmat_score_by_admission|\n",
            "+---------+--------------------+---------------------------+\n",
            "|    Admit|  3.3548666666666693|          692.7333333333333|\n",
            "| Waitlist|  3.3135000000000012|                      673.6|\n",
            "|     Deny|   3.231457450904887|          643.4443588756258|\n",
            "+---------+--------------------+---------------------------+\n",
            "\n"
          ]
        }
      ]
    },
    {
      "cell_type": "markdown",
      "source": [
        "### Prediction Dataset Preparation"
      ],
      "metadata": {
        "id": "pyyUsOOTsadz"
      }
    },
    {
      "cell_type": "code",
      "source": [
        "#  final dataset with the following features to predict admission_numeric, gpa , gmat_score , experience_years , major , gender , and work_industry\n",
        "mba_final = final_df.select('admission_numeric', 'gpa', 'gmat_score', 'experience_years', 'major', 'gender', 'work_industry')\n",
        "mba_final.show(5)"
      ],
      "metadata": {
        "id": "VqgoKZ63sdcD",
        "colab": {
          "base_uri": "https://localhost:8080/"
        },
        "outputId": "7cb167e0-0021-4225-b89d-a82ace722100"
      },
      "execution_count": 71,
      "outputs": [
        {
          "output_type": "stream",
          "name": "stdout",
          "text": [
            "+-----------------+----+----------+----------------+----------+------+--------------------+\n",
            "|admission_numeric| gpa|gmat_score|experience_years|     major|gender|       work_industry|\n",
            "+-----------------+----+----------+----------------+----------+------+--------------------+\n",
            "|                1| 3.3|     620.0|             3.0|  Business|Female|  Financial Services|\n",
            "|               -1|3.28|     680.0|             5.0|Humanities|  Male|Investment Manage...|\n",
            "|                1| 3.3|     710.0|             5.0|  Business|Female|          Technology|\n",
            "|               -1|3.47|     690.0|             6.0|      STEM|  Male|          Technology|\n",
            "|               -1|3.35|     590.0|             5.0|      STEM|  Male|          Consulting|\n",
            "+-----------------+----+----------+----------------+----------+------+--------------------+\n",
            "only showing top 5 rows\n",
            "\n"
          ]
        }
      ]
    },
    {
      "cell_type": "code",
      "source": [
        "# saving the final dataset to a csv file\n",
        "mba_final.write.csv('mba_final.csv', header=True, mode='overwrite')"
      ],
      "metadata": {
        "id": "eDPIKRqNDh_r"
      },
      "execution_count": 73,
      "outputs": []
    },
    {
      "cell_type": "code",
      "source": [
        "# saving the cleaned DataFrame as a CSV file\n",
        "final_df.write.csv('final_df.csv', header=True, mode='overwrite')"
      ],
      "metadata": {
        "id": "UpqOjNbvDzv4"
      },
      "execution_count": 74,
      "outputs": []
    },
    {
      "cell_type": "code",
      "source": [
        "# saving each of the key aggregations (admission rates, averages, distributions) as separate CSV files\n",
        "avg_scores_by_major.write.csv('avg_scores_by_major.csv', header=True, mode='overwrite')\n",
        "admission_percentage_by_industry.write.csv('admission_percentage_by_industry.csv', header=True, mode='overwrite')\n",
        "experience_by_gender.write.csv('experience_by_gender.csv', header=True, mode='overwrite')\n",
        "avg_scores_by_status.write.csv('avg_scores_by_status.csv', header=True, mode='overwrite')\n",
        "admission_rates_df.write.csv('admission_rates.csv', header=True, mode='overwrite')\n",
        "top_3_majors.write.csv('top_3_majors.csv', header=True, mode='overwrite')\n",
        "avg_work_and_gpa_by_admission.write.csv('avg_work_and_gpa_by_admission.csv', header=True, mode='overwrite')\n",
        "avg_gpa_and_gmat_by_admission.write.csv('avg_gpa_and_gmat_by_admission.csv', header=True, mode='overwrite')"
      ],
      "metadata": {
        "id": "9VrYdzE3EL4g"
      },
      "execution_count": 104,
      "outputs": []
    },
    {
      "cell_type": "code",
      "source": [],
      "metadata": {
        "id": "rPLdSmvXg1Vv"
      },
      "execution_count": null,
      "outputs": []
    }
  ]
}